{
 "cells": [
  {
   "cell_type": "code",
   "execution_count": 1,
   "id": "de1c6be3",
   "metadata": {
    "_cell_guid": "b1076dfc-b9ad-4769-8c92-a6c4dae69d19",
    "_uuid": "8f2839f25d086af736a60e9eeb907d3b93b6e0e5",
    "execution": {
     "iopub.execute_input": "2022-05-22T17:07:46.262364Z",
     "iopub.status.busy": "2022-05-22T17:07:46.261136Z",
     "iopub.status.idle": "2022-05-22T17:07:46.281024Z",
     "shell.execute_reply": "2022-05-22T17:07:46.279710Z"
    },
    "papermill": {
     "duration": 0.04702,
     "end_time": "2022-05-22T17:07:46.283547",
     "exception": false,
     "start_time": "2022-05-22T17:07:46.236527",
     "status": "completed"
    },
    "tags": []
   },
   "outputs": [
    {
     "name": "stdout",
     "output_type": "stream",
     "text": [
      "/kaggle/input/indian-liver-patient-dataset/Indian Liver Patient Dataset (ILPD).csv\n"
     ]
    }
   ],
   "source": [
    "# This Python 3 environment comes with many helpful analytics libraries installed\n",
    "# It is defined by the kaggle/python Docker image: https://github.com/kaggle/docker-python\n",
    "# For example, here's several helpful packages to load\n",
    "\n",
    "import numpy as np # linear algebra\n",
    "import pandas as pd # data processing, CSV file I/O (e.g. pd.read_csv)\n",
    "\n",
    "# Input data files are available in the read-only \"../input/\" directory\n",
    "# For example, running this (by clicking run or pressing Shift+Enter) will list all files under the input directory\n",
    "\n",
    "import os\n",
    "for dirname, _, filenames in os.walk('/kaggle/input'):\n",
    "    for filename in filenames:\n",
    "        print(os.path.join(dirname, filename))\n",
    "\n",
    "# You can write up to 20GB to the current directory (/kaggle/working/) that gets preserved as output when you create a version using \"Save & Run All\" \n",
    "# You can also write temporary files to /kaggle/temp/, but they won't be saved outside of the current session"
   ]
  },
  {
   "cell_type": "code",
   "execution_count": 2,
   "id": "1e567988",
   "metadata": {
    "execution": {
     "iopub.execute_input": "2022-05-22T17:07:46.330783Z",
     "iopub.status.busy": "2022-05-22T17:07:46.330012Z",
     "iopub.status.idle": "2022-05-22T17:07:46.349494Z",
     "shell.execute_reply": "2022-05-22T17:07:46.348712Z"
    },
    "papermill": {
     "duration": 0.045122,
     "end_time": "2022-05-22T17:07:46.351903",
     "exception": false,
     "start_time": "2022-05-22T17:07:46.306781",
     "status": "completed"
    },
    "tags": []
   },
   "outputs": [],
   "source": [
    "data = pd.read_csv('/kaggle/input/indian-liver-patient-dataset/Indian Liver Patient Dataset (ILPD).csv')"
   ]
  },
  {
   "cell_type": "code",
   "execution_count": 3,
   "id": "e671201e",
   "metadata": {
    "execution": {
     "iopub.execute_input": "2022-05-22T17:07:46.398449Z",
     "iopub.status.busy": "2022-05-22T17:07:46.397881Z",
     "iopub.status.idle": "2022-05-22T17:07:46.429545Z",
     "shell.execute_reply": "2022-05-22T17:07:46.428407Z"
    },
    "papermill": {
     "duration": 0.057999,
     "end_time": "2022-05-22T17:07:46.432294",
     "exception": false,
     "start_time": "2022-05-22T17:07:46.374295",
     "status": "completed"
    },
    "tags": []
   },
   "outputs": [
    {
     "name": "stdout",
     "output_type": "stream",
     "text": [
      "<class 'pandas.core.frame.DataFrame'>\n",
      "RangeIndex: 583 entries, 0 to 582\n",
      "Data columns (total 11 columns):\n",
      " #   Column            Non-Null Count  Dtype  \n",
      "---  ------            --------------  -----  \n",
      " 0   age               583 non-null    int64  \n",
      " 1   gender            583 non-null    object \n",
      " 2   tot_bilirubin     583 non-null    float64\n",
      " 3   direct_bilirubin  583 non-null    float64\n",
      " 4   tot_proteins      583 non-null    int64  \n",
      " 5   albumin           583 non-null    int64  \n",
      " 6   ag_ratio          583 non-null    int64  \n",
      " 7   sgpt              583 non-null    float64\n",
      " 8   sgot              583 non-null    float64\n",
      " 9   alkphos           579 non-null    float64\n",
      " 10  is_patient        583 non-null    int64  \n",
      "dtypes: float64(5), int64(5), object(1)\n",
      "memory usage: 50.2+ KB\n"
     ]
    },
    {
     "data": {
      "text/plain": [
       "age                 0\n",
       "gender              0\n",
       "tot_bilirubin       0\n",
       "direct_bilirubin    0\n",
       "tot_proteins        0\n",
       "albumin             0\n",
       "ag_ratio            0\n",
       "sgpt                0\n",
       "sgot                0\n",
       "alkphos             4\n",
       "is_patient          0\n",
       "dtype: int64"
      ]
     },
     "execution_count": 3,
     "metadata": {},
     "output_type": "execute_result"
    }
   ],
   "source": [
    "data.head()\n",
    "data.info()\n",
    "data.isnull().sum()"
   ]
  },
  {
   "cell_type": "code",
   "execution_count": 4,
   "id": "ac85579e",
   "metadata": {
    "execution": {
     "iopub.execute_input": "2022-05-22T17:07:46.480316Z",
     "iopub.status.busy": "2022-05-22T17:07:46.479608Z",
     "iopub.status.idle": "2022-05-22T17:07:47.819427Z",
     "shell.execute_reply": "2022-05-22T17:07:47.818383Z"
    },
    "papermill": {
     "duration": 1.366865,
     "end_time": "2022-05-22T17:07:47.822167",
     "exception": false,
     "start_time": "2022-05-22T17:07:46.455302",
     "status": "completed"
    },
    "tags": []
   },
   "outputs": [],
   "source": [
    "from sklearn.impute import SimpleImputer\n",
    "imp = SimpleImputer(missing_values=np.nan, strategy='mean')"
   ]
  },
  {
   "cell_type": "code",
   "execution_count": 5,
   "id": "cd786262",
   "metadata": {
    "execution": {
     "iopub.execute_input": "2022-05-22T17:07:47.871278Z",
     "iopub.status.busy": "2022-05-22T17:07:47.870961Z",
     "iopub.status.idle": "2022-05-22T17:07:47.882266Z",
     "shell.execute_reply": "2022-05-22T17:07:47.881569Z"
    },
    "papermill": {
     "duration": 0.038512,
     "end_time": "2022-05-22T17:07:47.884232",
     "exception": false,
     "start_time": "2022-05-22T17:07:47.845720",
     "status": "completed"
    },
    "tags": []
   },
   "outputs": [],
   "source": [
    "data['alkphos']=imp.fit_transform(data[['alkphos']])"
   ]
  },
  {
   "cell_type": "code",
   "execution_count": 6,
   "id": "1dd3c139",
   "metadata": {
    "execution": {
     "iopub.execute_input": "2022-05-22T17:07:47.932401Z",
     "iopub.status.busy": "2022-05-22T17:07:47.931878Z",
     "iopub.status.idle": "2022-05-22T17:07:47.939605Z",
     "shell.execute_reply": "2022-05-22T17:07:47.938515Z"
    },
    "papermill": {
     "duration": 0.034048,
     "end_time": "2022-05-22T17:07:47.941541",
     "exception": false,
     "start_time": "2022-05-22T17:07:47.907493",
     "status": "completed"
    },
    "tags": []
   },
   "outputs": [
    {
     "data": {
      "text/plain": [
       "age                 0\n",
       "gender              0\n",
       "tot_bilirubin       0\n",
       "direct_bilirubin    0\n",
       "tot_proteins        0\n",
       "albumin             0\n",
       "ag_ratio            0\n",
       "sgpt                0\n",
       "sgot                0\n",
       "alkphos             0\n",
       "is_patient          0\n",
       "dtype: int64"
      ]
     },
     "execution_count": 6,
     "metadata": {},
     "output_type": "execute_result"
    }
   ],
   "source": [
    "data.isnull().sum()"
   ]
  },
  {
   "cell_type": "code",
   "execution_count": 7,
   "id": "dd72a99d",
   "metadata": {
    "execution": {
     "iopub.execute_input": "2022-05-22T17:07:47.990463Z",
     "iopub.status.busy": "2022-05-22T17:07:47.990164Z",
     "iopub.status.idle": "2022-05-22T17:07:48.037066Z",
     "shell.execute_reply": "2022-05-22T17:07:48.036467Z"
    },
    "papermill": {
     "duration": 0.074867,
     "end_time": "2022-05-22T17:07:48.039880",
     "exception": false,
     "start_time": "2022-05-22T17:07:47.965013",
     "status": "completed"
    },
    "tags": []
   },
   "outputs": [
    {
     "data": {
      "text/html": [
       "<div>\n",
       "<style scoped>\n",
       "    .dataframe tbody tr th:only-of-type {\n",
       "        vertical-align: middle;\n",
       "    }\n",
       "\n",
       "    .dataframe tbody tr th {\n",
       "        vertical-align: top;\n",
       "    }\n",
       "\n",
       "    .dataframe thead th {\n",
       "        text-align: right;\n",
       "    }\n",
       "</style>\n",
       "<table border=\"1\" class=\"dataframe\">\n",
       "  <thead>\n",
       "    <tr style=\"text-align: right;\">\n",
       "      <th></th>\n",
       "      <th>age</th>\n",
       "      <th>tot_bilirubin</th>\n",
       "      <th>direct_bilirubin</th>\n",
       "      <th>tot_proteins</th>\n",
       "      <th>albumin</th>\n",
       "      <th>ag_ratio</th>\n",
       "      <th>sgpt</th>\n",
       "      <th>sgot</th>\n",
       "      <th>alkphos</th>\n",
       "      <th>is_patient</th>\n",
       "    </tr>\n",
       "  </thead>\n",
       "  <tbody>\n",
       "    <tr>\n",
       "      <th>count</th>\n",
       "      <td>583.000000</td>\n",
       "      <td>583.000000</td>\n",
       "      <td>583.000000</td>\n",
       "      <td>583.000000</td>\n",
       "      <td>583.000000</td>\n",
       "      <td>583.000000</td>\n",
       "      <td>583.000000</td>\n",
       "      <td>583.000000</td>\n",
       "      <td>583.000000</td>\n",
       "      <td>583.000000</td>\n",
       "    </tr>\n",
       "    <tr>\n",
       "      <th>mean</th>\n",
       "      <td>44.746141</td>\n",
       "      <td>3.298799</td>\n",
       "      <td>1.486106</td>\n",
       "      <td>290.576329</td>\n",
       "      <td>80.713551</td>\n",
       "      <td>109.910806</td>\n",
       "      <td>6.483190</td>\n",
       "      <td>3.141852</td>\n",
       "      <td>0.947064</td>\n",
       "      <td>1.286449</td>\n",
       "    </tr>\n",
       "    <tr>\n",
       "      <th>std</th>\n",
       "      <td>16.189833</td>\n",
       "      <td>6.209522</td>\n",
       "      <td>2.808498</td>\n",
       "      <td>242.937989</td>\n",
       "      <td>182.620356</td>\n",
       "      <td>288.918529</td>\n",
       "      <td>1.085451</td>\n",
       "      <td>0.795519</td>\n",
       "      <td>0.318492</td>\n",
       "      <td>0.452490</td>\n",
       "    </tr>\n",
       "    <tr>\n",
       "      <th>min</th>\n",
       "      <td>4.000000</td>\n",
       "      <td>0.400000</td>\n",
       "      <td>0.100000</td>\n",
       "      <td>63.000000</td>\n",
       "      <td>10.000000</td>\n",
       "      <td>10.000000</td>\n",
       "      <td>2.700000</td>\n",
       "      <td>0.900000</td>\n",
       "      <td>0.300000</td>\n",
       "      <td>1.000000</td>\n",
       "    </tr>\n",
       "    <tr>\n",
       "      <th>25%</th>\n",
       "      <td>33.000000</td>\n",
       "      <td>0.800000</td>\n",
       "      <td>0.200000</td>\n",
       "      <td>175.500000</td>\n",
       "      <td>23.000000</td>\n",
       "      <td>25.000000</td>\n",
       "      <td>5.800000</td>\n",
       "      <td>2.600000</td>\n",
       "      <td>0.700000</td>\n",
       "      <td>1.000000</td>\n",
       "    </tr>\n",
       "    <tr>\n",
       "      <th>50%</th>\n",
       "      <td>45.000000</td>\n",
       "      <td>1.000000</td>\n",
       "      <td>0.300000</td>\n",
       "      <td>208.000000</td>\n",
       "      <td>35.000000</td>\n",
       "      <td>42.000000</td>\n",
       "      <td>6.600000</td>\n",
       "      <td>3.100000</td>\n",
       "      <td>0.947064</td>\n",
       "      <td>1.000000</td>\n",
       "    </tr>\n",
       "    <tr>\n",
       "      <th>75%</th>\n",
       "      <td>58.000000</td>\n",
       "      <td>2.600000</td>\n",
       "      <td>1.300000</td>\n",
       "      <td>298.000000</td>\n",
       "      <td>60.500000</td>\n",
       "      <td>87.000000</td>\n",
       "      <td>7.200000</td>\n",
       "      <td>3.800000</td>\n",
       "      <td>1.100000</td>\n",
       "      <td>2.000000</td>\n",
       "    </tr>\n",
       "    <tr>\n",
       "      <th>max</th>\n",
       "      <td>90.000000</td>\n",
       "      <td>75.000000</td>\n",
       "      <td>19.700000</td>\n",
       "      <td>2110.000000</td>\n",
       "      <td>2000.000000</td>\n",
       "      <td>4929.000000</td>\n",
       "      <td>9.600000</td>\n",
       "      <td>5.500000</td>\n",
       "      <td>2.800000</td>\n",
       "      <td>2.000000</td>\n",
       "    </tr>\n",
       "  </tbody>\n",
       "</table>\n",
       "</div>"
      ],
      "text/plain": [
       "              age  tot_bilirubin  direct_bilirubin  tot_proteins      albumin  \\\n",
       "count  583.000000     583.000000        583.000000    583.000000   583.000000   \n",
       "mean    44.746141       3.298799          1.486106    290.576329    80.713551   \n",
       "std     16.189833       6.209522          2.808498    242.937989   182.620356   \n",
       "min      4.000000       0.400000          0.100000     63.000000    10.000000   \n",
       "25%     33.000000       0.800000          0.200000    175.500000    23.000000   \n",
       "50%     45.000000       1.000000          0.300000    208.000000    35.000000   \n",
       "75%     58.000000       2.600000          1.300000    298.000000    60.500000   \n",
       "max     90.000000      75.000000         19.700000   2110.000000  2000.000000   \n",
       "\n",
       "          ag_ratio        sgpt        sgot     alkphos  is_patient  \n",
       "count   583.000000  583.000000  583.000000  583.000000  583.000000  \n",
       "mean    109.910806    6.483190    3.141852    0.947064    1.286449  \n",
       "std     288.918529    1.085451    0.795519    0.318492    0.452490  \n",
       "min      10.000000    2.700000    0.900000    0.300000    1.000000  \n",
       "25%      25.000000    5.800000    2.600000    0.700000    1.000000  \n",
       "50%      42.000000    6.600000    3.100000    0.947064    1.000000  \n",
       "75%      87.000000    7.200000    3.800000    1.100000    2.000000  \n",
       "max    4929.000000    9.600000    5.500000    2.800000    2.000000  "
      ]
     },
     "execution_count": 7,
     "metadata": {},
     "output_type": "execute_result"
    }
   ],
   "source": [
    "data.describe()"
   ]
  },
  {
   "cell_type": "code",
   "execution_count": 8,
   "id": "468c41e2",
   "metadata": {
    "execution": {
     "iopub.execute_input": "2022-05-22T17:07:48.092815Z",
     "iopub.status.busy": "2022-05-22T17:07:48.092012Z",
     "iopub.status.idle": "2022-05-22T17:07:48.098411Z",
     "shell.execute_reply": "2022-05-22T17:07:48.097794Z"
    },
    "papermill": {
     "duration": 0.033559,
     "end_time": "2022-05-22T17:07:48.100486",
     "exception": false,
     "start_time": "2022-05-22T17:07:48.066927",
     "status": "completed"
    },
    "tags": []
   },
   "outputs": [],
   "source": [
    "data['gender'] = data['gender'].apply(lambda x:1 if x == 'Male' else 0)"
   ]
  },
  {
   "cell_type": "code",
   "execution_count": 9,
   "id": "c56e4c20",
   "metadata": {
    "execution": {
     "iopub.execute_input": "2022-05-22T17:07:48.153220Z",
     "iopub.status.busy": "2022-05-22T17:07:48.152831Z",
     "iopub.status.idle": "2022-05-22T17:07:48.193428Z",
     "shell.execute_reply": "2022-05-22T17:07:48.192564Z"
    },
    "papermill": {
     "duration": 0.069032,
     "end_time": "2022-05-22T17:07:48.195891",
     "exception": false,
     "start_time": "2022-05-22T17:07:48.126859",
     "status": "completed"
    },
    "tags": []
   },
   "outputs": [
    {
     "data": {
      "text/html": [
       "<div>\n",
       "<style scoped>\n",
       "    .dataframe tbody tr th:only-of-type {\n",
       "        vertical-align: middle;\n",
       "    }\n",
       "\n",
       "    .dataframe tbody tr th {\n",
       "        vertical-align: top;\n",
       "    }\n",
       "\n",
       "    .dataframe thead th {\n",
       "        text-align: right;\n",
       "    }\n",
       "</style>\n",
       "<table border=\"1\" class=\"dataframe\">\n",
       "  <thead>\n",
       "    <tr style=\"text-align: right;\">\n",
       "      <th></th>\n",
       "      <th>age</th>\n",
       "      <th>gender</th>\n",
       "      <th>tot_bilirubin</th>\n",
       "      <th>direct_bilirubin</th>\n",
       "      <th>tot_proteins</th>\n",
       "      <th>albumin</th>\n",
       "      <th>ag_ratio</th>\n",
       "      <th>sgpt</th>\n",
       "      <th>sgot</th>\n",
       "      <th>alkphos</th>\n",
       "      <th>is_patient</th>\n",
       "    </tr>\n",
       "  </thead>\n",
       "  <tbody>\n",
       "    <tr>\n",
       "      <th>count</th>\n",
       "      <td>583.000000</td>\n",
       "      <td>583.000000</td>\n",
       "      <td>583.000000</td>\n",
       "      <td>583.000000</td>\n",
       "      <td>583.000000</td>\n",
       "      <td>583.000000</td>\n",
       "      <td>583.000000</td>\n",
       "      <td>583.000000</td>\n",
       "      <td>583.000000</td>\n",
       "      <td>583.000000</td>\n",
       "      <td>583.000000</td>\n",
       "    </tr>\n",
       "    <tr>\n",
       "      <th>mean</th>\n",
       "      <td>44.746141</td>\n",
       "      <td>0.756432</td>\n",
       "      <td>3.298799</td>\n",
       "      <td>1.486106</td>\n",
       "      <td>290.576329</td>\n",
       "      <td>80.713551</td>\n",
       "      <td>109.910806</td>\n",
       "      <td>6.483190</td>\n",
       "      <td>3.141852</td>\n",
       "      <td>0.947064</td>\n",
       "      <td>1.286449</td>\n",
       "    </tr>\n",
       "    <tr>\n",
       "      <th>std</th>\n",
       "      <td>16.189833</td>\n",
       "      <td>0.429603</td>\n",
       "      <td>6.209522</td>\n",
       "      <td>2.808498</td>\n",
       "      <td>242.937989</td>\n",
       "      <td>182.620356</td>\n",
       "      <td>288.918529</td>\n",
       "      <td>1.085451</td>\n",
       "      <td>0.795519</td>\n",
       "      <td>0.318492</td>\n",
       "      <td>0.452490</td>\n",
       "    </tr>\n",
       "    <tr>\n",
       "      <th>min</th>\n",
       "      <td>4.000000</td>\n",
       "      <td>0.000000</td>\n",
       "      <td>0.400000</td>\n",
       "      <td>0.100000</td>\n",
       "      <td>63.000000</td>\n",
       "      <td>10.000000</td>\n",
       "      <td>10.000000</td>\n",
       "      <td>2.700000</td>\n",
       "      <td>0.900000</td>\n",
       "      <td>0.300000</td>\n",
       "      <td>1.000000</td>\n",
       "    </tr>\n",
       "    <tr>\n",
       "      <th>25%</th>\n",
       "      <td>33.000000</td>\n",
       "      <td>1.000000</td>\n",
       "      <td>0.800000</td>\n",
       "      <td>0.200000</td>\n",
       "      <td>175.500000</td>\n",
       "      <td>23.000000</td>\n",
       "      <td>25.000000</td>\n",
       "      <td>5.800000</td>\n",
       "      <td>2.600000</td>\n",
       "      <td>0.700000</td>\n",
       "      <td>1.000000</td>\n",
       "    </tr>\n",
       "    <tr>\n",
       "      <th>50%</th>\n",
       "      <td>45.000000</td>\n",
       "      <td>1.000000</td>\n",
       "      <td>1.000000</td>\n",
       "      <td>0.300000</td>\n",
       "      <td>208.000000</td>\n",
       "      <td>35.000000</td>\n",
       "      <td>42.000000</td>\n",
       "      <td>6.600000</td>\n",
       "      <td>3.100000</td>\n",
       "      <td>0.947064</td>\n",
       "      <td>1.000000</td>\n",
       "    </tr>\n",
       "    <tr>\n",
       "      <th>75%</th>\n",
       "      <td>58.000000</td>\n",
       "      <td>1.000000</td>\n",
       "      <td>2.600000</td>\n",
       "      <td>1.300000</td>\n",
       "      <td>298.000000</td>\n",
       "      <td>60.500000</td>\n",
       "      <td>87.000000</td>\n",
       "      <td>7.200000</td>\n",
       "      <td>3.800000</td>\n",
       "      <td>1.100000</td>\n",
       "      <td>2.000000</td>\n",
       "    </tr>\n",
       "    <tr>\n",
       "      <th>max</th>\n",
       "      <td>90.000000</td>\n",
       "      <td>1.000000</td>\n",
       "      <td>75.000000</td>\n",
       "      <td>19.700000</td>\n",
       "      <td>2110.000000</td>\n",
       "      <td>2000.000000</td>\n",
       "      <td>4929.000000</td>\n",
       "      <td>9.600000</td>\n",
       "      <td>5.500000</td>\n",
       "      <td>2.800000</td>\n",
       "      <td>2.000000</td>\n",
       "    </tr>\n",
       "  </tbody>\n",
       "</table>\n",
       "</div>"
      ],
      "text/plain": [
       "              age      gender  tot_bilirubin  direct_bilirubin  tot_proteins  \\\n",
       "count  583.000000  583.000000     583.000000        583.000000    583.000000   \n",
       "mean    44.746141    0.756432       3.298799          1.486106    290.576329   \n",
       "std     16.189833    0.429603       6.209522          2.808498    242.937989   \n",
       "min      4.000000    0.000000       0.400000          0.100000     63.000000   \n",
       "25%     33.000000    1.000000       0.800000          0.200000    175.500000   \n",
       "50%     45.000000    1.000000       1.000000          0.300000    208.000000   \n",
       "75%     58.000000    1.000000       2.600000          1.300000    298.000000   \n",
       "max     90.000000    1.000000      75.000000         19.700000   2110.000000   \n",
       "\n",
       "           albumin     ag_ratio        sgpt        sgot     alkphos  \\\n",
       "count   583.000000   583.000000  583.000000  583.000000  583.000000   \n",
       "mean     80.713551   109.910806    6.483190    3.141852    0.947064   \n",
       "std     182.620356   288.918529    1.085451    0.795519    0.318492   \n",
       "min      10.000000    10.000000    2.700000    0.900000    0.300000   \n",
       "25%      23.000000    25.000000    5.800000    2.600000    0.700000   \n",
       "50%      35.000000    42.000000    6.600000    3.100000    0.947064   \n",
       "75%      60.500000    87.000000    7.200000    3.800000    1.100000   \n",
       "max    2000.000000  4929.000000    9.600000    5.500000    2.800000   \n",
       "\n",
       "       is_patient  \n",
       "count  583.000000  \n",
       "mean     1.286449  \n",
       "std      0.452490  \n",
       "min      1.000000  \n",
       "25%      1.000000  \n",
       "50%      1.000000  \n",
       "75%      2.000000  \n",
       "max      2.000000  "
      ]
     },
     "execution_count": 9,
     "metadata": {},
     "output_type": "execute_result"
    }
   ],
   "source": [
    "data.describe()"
   ]
  },
  {
   "cell_type": "code",
   "execution_count": 10,
   "id": "290e6782",
   "metadata": {
    "execution": {
     "iopub.execute_input": "2022-05-22T17:07:48.247065Z",
     "iopub.status.busy": "2022-05-22T17:07:48.246593Z",
     "iopub.status.idle": "2022-05-22T17:07:48.251435Z",
     "shell.execute_reply": "2022-05-22T17:07:48.250727Z"
    },
    "papermill": {
     "duration": 0.033096,
     "end_time": "2022-05-22T17:07:48.253401",
     "exception": false,
     "start_time": "2022-05-22T17:07:48.220305",
     "status": "completed"
    },
    "tags": []
   },
   "outputs": [],
   "source": [
    "X = data.iloc[:, :10]\n",
    "y = data['is_patient']"
   ]
  },
  {
   "cell_type": "code",
   "execution_count": 11,
   "id": "df2010fd",
   "metadata": {
    "execution": {
     "iopub.execute_input": "2022-05-22T17:07:48.305246Z",
     "iopub.status.busy": "2022-05-22T17:07:48.304867Z",
     "iopub.status.idle": "2022-05-22T17:07:48.340270Z",
     "shell.execute_reply": "2022-05-22T17:07:48.339621Z"
    },
    "papermill": {
     "duration": 0.064557,
     "end_time": "2022-05-22T17:07:48.342633",
     "exception": false,
     "start_time": "2022-05-22T17:07:48.278076",
     "status": "completed"
    },
    "tags": []
   },
   "outputs": [],
   "source": [
    "from sklearn.neighbors import KNeighborsClassifier as KNN\n",
    "from sklearn.tree import DecisionTreeClassifier\n",
    "from sklearn.linear_model import LogisticRegression\n",
    "from sklearn.model_selection import train_test_split\n",
    "from sklearn.metrics import accuracy_score\n",
    "from sklearn.preprocessing import MinMaxScaler"
   ]
  },
  {
   "cell_type": "code",
   "execution_count": 12,
   "id": "8f38dc66",
   "metadata": {
    "execution": {
     "iopub.execute_input": "2022-05-22T17:07:48.393693Z",
     "iopub.status.busy": "2022-05-22T17:07:48.393363Z",
     "iopub.status.idle": "2022-05-22T17:07:48.406234Z",
     "shell.execute_reply": "2022-05-22T17:07:48.405438Z"
    },
    "papermill": {
     "duration": 0.041211,
     "end_time": "2022-05-22T17:07:48.408481",
     "exception": false,
     "start_time": "2022-05-22T17:07:48.367270",
     "status": "completed"
    },
    "tags": []
   },
   "outputs": [],
   "source": [
    "scaler=MinMaxScaler()\n",
    "scaled_values=scaler.fit_transform(X)\n",
    "X.loc[:,:]=scaled_values"
   ]
  },
  {
   "cell_type": "code",
   "execution_count": 13,
   "id": "6b0facd0",
   "metadata": {
    "execution": {
     "iopub.execute_input": "2022-05-22T17:07:48.460857Z",
     "iopub.status.busy": "2022-05-22T17:07:48.460208Z",
     "iopub.status.idle": "2022-05-22T17:07:48.465724Z",
     "shell.execute_reply": "2022-05-22T17:07:48.464878Z"
    },
    "papermill": {
     "duration": 0.034763,
     "end_time": "2022-05-22T17:07:48.467898",
     "exception": false,
     "start_time": "2022-05-22T17:07:48.433135",
     "status": "completed"
    },
    "tags": []
   },
   "outputs": [],
   "source": [
    "#set seed for reproducibility\n",
    "SEED=1\n",
    "\n",
    "# Instantiate lr\n",
    "lr = LogisticRegression(random_state=SEED)\n",
    "\n",
    "# Instantiate knn\n",
    "knn = KNN(n_neighbors=27)\n",
    "\n",
    "# Instantiate dt\n",
    "dt = DecisionTreeClassifier(min_samples_leaf=0.13, random_state=SEED)\n",
    "\n",
    "# Define the list classifiers\n",
    "classifiers = [('Logistic Regression', lr), ('K Nearest Neighbours', knn), ('Classification Tree', dt)]"
   ]
  },
  {
   "cell_type": "code",
   "execution_count": 14,
   "id": "988c2170",
   "metadata": {
    "execution": {
     "iopub.execute_input": "2022-05-22T17:07:48.521604Z",
     "iopub.status.busy": "2022-05-22T17:07:48.521234Z",
     "iopub.status.idle": "2022-05-22T17:07:48.576458Z",
     "shell.execute_reply": "2022-05-22T17:07:48.575580Z"
    },
    "papermill": {
     "duration": 0.084917,
     "end_time": "2022-05-22T17:07:48.578681",
     "exception": false,
     "start_time": "2022-05-22T17:07:48.493764",
     "status": "completed"
    },
    "tags": []
   },
   "outputs": [
    {
     "name": "stdout",
     "output_type": "stream",
     "text": [
      "Logistic Regression : 0.716\n",
      "K Nearest Neighbours : 0.702\n",
      "Classification Tree : 0.689\n"
     ]
    }
   ],
   "source": [
    "X_train, X_test, y_train, y_test = train_test_split(X, y, test_size=0.7, random_state=SEED)\n",
    "# Iterate over the pre-defined list of classifiers\n",
    "for clf_name, clf in classifiers:    \n",
    " \n",
    "    # Fit clf to the training set\n",
    "    clf.fit(X_train, y_train)    \n",
    "   \n",
    "    # Predict y_pred\n",
    "    y_pred = clf.predict(X_test)\n",
    "    \n",
    "    # Calculate accuracy\n",
    "    accuracy = accuracy_score(y_test, y_pred) \n",
    "   \n",
    "    # Evaluate clf's accuracy on the test set\n",
    "    print('{:s} : {:.3f}'.format(clf_name, accuracy))"
   ]
  },
  {
   "cell_type": "code",
   "execution_count": 15,
   "id": "59b3e806",
   "metadata": {
    "execution": {
     "iopub.execute_input": "2022-05-22T17:07:48.631208Z",
     "iopub.status.busy": "2022-05-22T17:07:48.630629Z",
     "iopub.status.idle": "2022-05-22T17:07:48.741679Z",
     "shell.execute_reply": "2022-05-22T17:07:48.740716Z"
    },
    "papermill": {
     "duration": 0.139784,
     "end_time": "2022-05-22T17:07:48.744051",
     "exception": false,
     "start_time": "2022-05-22T17:07:48.604267",
     "status": "completed"
    },
    "tags": []
   },
   "outputs": [
    {
     "name": "stdout",
     "output_type": "stream",
     "text": [
      "Voting Classifier: 0.714\n"
     ]
    }
   ],
   "source": [
    "# Import VotingClassifier from sklearn.ensemble\n",
    "from sklearn.ensemble import VotingClassifier\n",
    "\n",
    "# Instantiate a VotingClassifier vc\n",
    "vc = VotingClassifier(estimators=classifiers)     \n",
    "\n",
    "# Fit vc to the training set\n",
    "vc.fit(X_train, y_train)   \n",
    "\n",
    "# Evaluate the test set predictions\n",
    "y_pred = vc.predict(X_test)\n",
    "\n",
    "# Calculate accuracy score\n",
    "accuracy = accuracy_score(y_test, y_pred)\n",
    "print('Voting Classifier: {:.3f}'.format(accuracy))"
   ]
  },
  {
   "cell_type": "code",
   "execution_count": 16,
   "id": "2f8d1559",
   "metadata": {
    "execution": {
     "iopub.execute_input": "2022-05-22T17:07:48.798080Z",
     "iopub.status.busy": "2022-05-22T17:07:48.797736Z",
     "iopub.status.idle": "2022-05-22T17:07:48.801602Z",
     "shell.execute_reply": "2022-05-22T17:07:48.800836Z"
    },
    "papermill": {
     "duration": 0.03276,
     "end_time": "2022-05-22T17:07:48.803551",
     "exception": false,
     "start_time": "2022-05-22T17:07:48.770791",
     "status": "completed"
    },
    "tags": []
   },
   "outputs": [],
   "source": [
    "from sklearn.ensemble import RandomForestClassifier"
   ]
  },
  {
   "cell_type": "code",
   "execution_count": 17,
   "id": "cabb588e",
   "metadata": {
    "execution": {
     "iopub.execute_input": "2022-05-22T17:07:48.857197Z",
     "iopub.status.busy": "2022-05-22T17:07:48.856589Z",
     "iopub.status.idle": "2022-05-22T17:07:48.923512Z",
     "shell.execute_reply": "2022-05-22T17:07:48.922880Z"
    },
    "papermill": {
     "duration": 0.096256,
     "end_time": "2022-05-22T17:07:48.925487",
     "exception": false,
     "start_time": "2022-05-22T17:07:48.829231",
     "status": "completed"
    },
    "tags": []
   },
   "outputs": [
    {
     "name": "stdout",
     "output_type": "stream",
     "text": [
      "Test set accuracy of dt: 0.692\n"
     ]
    }
   ],
   "source": [
    "rf = RandomForestClassifier(n_estimators=27, random_state=SEED)\n",
    "rf.fit(X_train, y_train)\n",
    "rf_y_pred = rf.predict(X_test)\n",
    "rf_acc_test = accuracy_score(y_test, rf_y_pred)\n",
    "print('Test set accuracy of dt: {:.3f}'.format(rf_acc_test)) "
   ]
  },
  {
   "cell_type": "markdown",
   "id": "8713e876",
   "metadata": {
    "papermill": {
     "duration": 0.025105,
     "end_time": "2022-05-22T17:07:48.976169",
     "exception": false,
     "start_time": "2022-05-22T17:07:48.951064",
     "status": "completed"
    },
    "tags": []
   },
   "source": []
  },
  {
   "cell_type": "code",
   "execution_count": 18,
   "id": "aea7b32a",
   "metadata": {
    "execution": {
     "iopub.execute_input": "2022-05-22T17:07:49.029237Z",
     "iopub.status.busy": "2022-05-22T17:07:49.028716Z",
     "iopub.status.idle": "2022-05-22T17:07:49.032952Z",
     "shell.execute_reply": "2022-05-22T17:07:49.032062Z"
    },
    "papermill": {
     "duration": 0.0338,
     "end_time": "2022-05-22T17:07:49.035387",
     "exception": false,
     "start_time": "2022-05-22T17:07:49.001587",
     "status": "completed"
    },
    "tags": []
   },
   "outputs": [],
   "source": [
    "from sklearn.model_selection import cross_val_score"
   ]
  },
  {
   "cell_type": "code",
   "execution_count": 19,
   "id": "d066e8c5",
   "metadata": {
    "execution": {
     "iopub.execute_input": "2022-05-22T17:07:49.088773Z",
     "iopub.status.busy": "2022-05-22T17:07:49.087849Z",
     "iopub.status.idle": "2022-05-22T17:07:50.851515Z",
     "shell.execute_reply": "2022-05-22T17:07:50.850627Z"
    },
    "papermill": {
     "duration": 1.793069,
     "end_time": "2022-05-22T17:07:50.854214",
     "exception": false,
     "start_time": "2022-05-22T17:07:49.061145",
     "status": "completed"
    },
    "tags": []
   },
   "outputs": [
    {
     "name": "stdout",
     "output_type": "stream",
     "text": [
      "CV RMSE: 0.57\n"
     ]
    }
   ],
   "source": [
    "# Compute the array containing the 10-folds CV MSEs\n",
    "MSE_CV_scores = - cross_val_score(dt, X_train, y_train, cv=10, \n",
    "                       scoring='neg_mean_squared_error',\n",
    "                       n_jobs=-1)\n",
    "\n",
    "# Compute the 10-folds CV RMSE\n",
    "RMSE_CV = (MSE_CV_scores.mean())**(1/2)\n",
    "\n",
    "# Print RMSE_CV\n",
    "print('CV RMSE: {:.2f}'.format(RMSE_CV))"
   ]
  },
  {
   "cell_type": "code",
   "execution_count": 20,
   "id": "1462b737",
   "metadata": {
    "execution": {
     "iopub.execute_input": "2022-05-22T17:07:50.913079Z",
     "iopub.status.busy": "2022-05-22T17:07:50.912773Z",
     "iopub.status.idle": "2022-05-22T17:07:50.927832Z",
     "shell.execute_reply": "2022-05-22T17:07:50.926409Z"
    },
    "papermill": {
     "duration": 0.046738,
     "end_time": "2022-05-22T17:07:50.930624",
     "exception": false,
     "start_time": "2022-05-22T17:07:50.883886",
     "status": "completed"
    },
    "tags": []
   },
   "outputs": [
    {
     "name": "stdout",
     "output_type": "stream",
     "text": [
      "Train RMSE: 0.48\n"
     ]
    }
   ],
   "source": [
    "from sklearn.metrics import mean_squared_error as MSE\n",
    "\n",
    "# Fit dt to the training set\n",
    "dt.fit(X_train, y_train)\n",
    "\n",
    "# Predict the labels of the training set\n",
    "y_pred_train = dt.predict(X_train)\n",
    "\n",
    "# Evaluate the training set RMSE of dt\n",
    "RMSE_train = (MSE(y_train, y_pred_train))**(1/2)\n",
    "\n",
    "# Print RMSE_train\n",
    "print('Train RMSE: {:.2f}'.format(RMSE_train))"
   ]
  }
 ],
 "metadata": {
  "kernelspec": {
   "display_name": "Python 3",
   "language": "python",
   "name": "python3"
  },
  "language_info": {
   "codemirror_mode": {
    "name": "ipython",
    "version": 3
   },
   "file_extension": ".py",
   "mimetype": "text/x-python",
   "name": "python",
   "nbconvert_exporter": "python",
   "pygments_lexer": "ipython3",
   "version": "3.7.12"
  },
  "papermill": {
   "default_parameters": {},
   "duration": 17.590281,
   "end_time": "2022-05-22T17:07:53.579287",
   "environment_variables": {},
   "exception": null,
   "input_path": "__notebook__.ipynb",
   "output_path": "__notebook__.ipynb",
   "parameters": {},
   "start_time": "2022-05-22T17:07:35.989006",
   "version": "2.3.4"
  }
 },
 "nbformat": 4,
 "nbformat_minor": 5
}
